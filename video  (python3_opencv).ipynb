{
 "cells": [
  {
   "cell_type": "code",
   "execution_count": 10,
   "metadata": {},
   "outputs": [
    {
     "name": "stdout",
     "output_type": "stream",
     "text": [
      "width: 0.0, height: 0.0\n",
      "False\n"
     ]
    }
   ],
   "source": [
    "# -*-coding: utf-8 -*-\n",
    "import cv2\n",
    "import numpy as np \n",
    "# cap 이 정상적으로 open이 되었는지 확인하기 위해서 cap.isOpen() 으로 확인가능\n",
    "cap = cv2.VideoCapture(0)\n",
    "\n",
    "# cap.get(prodId)/cap.set(propId, value)을 통해서 속성 변경이 가능.\n",
    "# 3은 width, 4는 heigh\n",
    "\n",
    "print ('width: {0}, height: {1}'.format(cap.get(3),cap.get(4)))\n",
    "cap.set(3,320)\n",
    "cap.set(4,240)\n",
    "\n",
    "while(True):\n",
    "    # ret : frame capture결과(boolean)\n",
    "    # frame : Capture한 frame\n",
    "    ret, frame = cap.read()\n",
    "    print(ret)\n",
    "    if (ret):\n",
    "        # image를 Grayscale로 Convert함.\n",
    "        gray = cv2.cvtColor(frame, cv2.COLOR_BGR2GRAY)\n",
    "\n",
    "        cv2.imshow('frame', gray)\n",
    "        if cv2.waitKey(1) & 0xFF == ord('q'):\n",
    "            break\n",
    "\n",
    "    else:\n",
    "        cap.release()\n",
    "        cv2.destroyAllWindows()\n",
    "        break\n",
    "\n"
   ]
  },
  {
   "cell_type": "code",
   "execution_count": null,
   "metadata": {},
   "outputs": [],
   "source": []
  }
 ],
 "metadata": {
  "kernelspec": {
   "display_name": "Python 3",
   "language": "python",
   "name": "python3"
  },
  "language_info": {
   "codemirror_mode": {
    "name": "ipython",
    "version": 3
   },
   "file_extension": ".py",
   "mimetype": "text/x-python",
   "name": "python",
   "nbconvert_exporter": "python",
   "pygments_lexer": "ipython3",
   "version": "3.6.5"
  }
 },
 "nbformat": 4,
 "nbformat_minor": 2
}
