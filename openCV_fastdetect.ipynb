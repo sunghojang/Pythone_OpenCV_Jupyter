{
 "cells": [
  {
   "cell_type": "code",
   "execution_count": null,
   "metadata": {},
   "outputs": [],
   "source": [
    "import numpy as np\n",
    "import cv2\n",
    "from matplotlib import pyplot as plt\n",
    "is_v2 = cv2.__version__.startswith(\"2.\")\n",
    "if is_v2:\n",
    "    detector = cv2.SimpleBlobDetector()\n",
    "    print(\"sdf\")\n",
    "else:\n",
    "    detector = cv2.SimpleBlobDetector_create()\n",
    "    print(\"efef\")\n",
    "    \n",
    "img = cv2.imread('simple.jpg',0)\n",
    "\n",
    "# Initiate FAST object with default values\n",
    "fast = cv2.FastFeatureDetector()\n",
    "# find and draw the keypoints\n",
    "kp = detector.detect(img)\n",
    "img2 = cv2.drawKeypoints(img, kp, color=(255,0,0))\n",
    "\n",
    "# Print all default params\n",
    "print(\"Threshold: \", fast.getInt('threshold'))\n",
    "print(\"nonmaxSuppression: \", fast.getBool('nonmaxSuppression'))\n",
    "print(\"neighborhood: \", fast.getInt('type'))\n",
    "print(\"Total Keypoints with nonmaxSuppression: \", len(kp))\n",
    "\n",
    "cv2.imwrite('fast_true.png',img2)\n",
    "\n",
    "# Disable nonmaxSuppression0\n",
    "fast.setBool('nonmaxSuppression',0)\n",
    "kp = detector.detect(img)\n",
    "\n",
    "print(\"Total Keypoints without nonmaxSuppression: \", len(kp))\n",
    "\n",
    "img3 = cv2.drawKeypoints(img, kp, color=(255,0,0))\n",
    "\n",
    "cv2.imwrite('fast_false.png',img3)"
   ]
  }
 ],
 "metadata": {
  "kernelspec": {
   "display_name": "Python 3",
   "language": "python",
   "name": "python3"
  },
  "language_info": {
   "codemirror_mode": {
    "name": "ipython",
    "version": 3
   },
   "file_extension": ".py",
   "mimetype": "text/x-python",
   "name": "python",
   "nbconvert_exporter": "python",
   "pygments_lexer": "ipython3",
   "version": "3.6.5"
  }
 },
 "nbformat": 4,
 "nbformat_minor": 2
}
