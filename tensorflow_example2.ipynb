{
 "cells": [
  {
   "cell_type": "code",
   "execution_count": 11,
   "metadata": {},
   "outputs": [
    {
     "name": "stdout",
     "output_type": "stream",
     "text": [
      "Tensor(\"Placeholder_10:0\", shape=(?, 3), dtype=float32)\n",
      "[[1, 2, 3], [4, 5, 6]]\n",
      "<tf.Variable 'Variable_15:0' shape=(3, 2) dtype=float32_ref>\n",
      "<tf.Variable 'Variable_16:0' shape=(2, 2) dtype=float32_ref>\n",
      "[[ 1.0415508   0.27019122]\n",
      " [-0.29248133  0.07274325]]\n"
     ]
    }
   ],
   "source": [
    "import tensorflow as tf\n",
    "X = tf.placeholder(tf.float32, [None, 3])\n",
    "print(X)\n",
    "\n",
    "x_data = [[1,2,3],[4,5,6]]\n",
    "W = tf.Variable(tf.random_normal([3,2]))\n",
    "b = tf.Variable(tf.random_normal([2,2]))\n",
    "\n",
    "expr = tf.matmul(X,W) +b\n",
    "\n",
    "sess = tf.Session()\n",
    "sess.run(tf.global_variables_initializer())\n",
    "print(x_data)\n",
    "print(W)\n",
    "print(b)\n",
    "print(sess.run(b))\n",
    "sess.close()\n"
   ]
  },
  {
   "cell_type": "code",
   "execution_count": null,
   "metadata": {},
   "outputs": [],
   "source": []
  },
  {
   "cell_type": "code",
   "execution_count": null,
   "metadata": {},
   "outputs": [],
   "source": []
  },
  {
   "cell_type": "code",
   "execution_count": null,
   "metadata": {},
   "outputs": [],
   "source": []
  },
  {
   "cell_type": "code",
   "execution_count": null,
   "metadata": {},
   "outputs": [],
   "source": []
  }
 ],
 "metadata": {
  "kernelspec": {
   "display_name": "Python 3",
   "language": "python",
   "name": "python3"
  },
  "language_info": {
   "codemirror_mode": {
    "name": "ipython",
    "version": 3
   },
   "file_extension": ".py",
   "mimetype": "text/x-python",
   "name": "python",
   "nbconvert_exporter": "python",
   "pygments_lexer": "ipython3",
   "version": "3.6.5"
  }
 },
 "nbformat": 4,
 "nbformat_minor": 2
}
