{
 "cells": [
  {
   "cell_type": "code",
   "execution_count": 7,
   "metadata": {},
   "outputs": [],
   "source": [
    "#-*- coding:utf-8 -*-\n",
    "import cv2\n",
    "import numpy as np \n",
    "\n",
    "drawing = False #Mouse가 클릭된 상태 확인용\n",
    "mode = False # True이면 사각형, false면 원\n",
    "ix,iy = -1,-1\n",
    "\n",
    "\n",
    "# Mouse Callback함수\n",
    "def draw_circle(event, x,y, flags, param):\n",
    "\tglobal ix,iy, drawing, mode\n",
    "\n",
    "\tif event == cv2.EVENT_LBUTTONDOWN: #마우스를 누른 상태\n",
    "\t\tdrawing = True \n",
    "\t\tix, iy = x,y\n",
    "\telif event == cv2.EVENT_MOUSEMOVE: # 마우스 이동\n",
    "\t\tif drawing == True:            # 마우스를 누른 상태 일경우\n",
    "\t\t\tif mode == True:\n",
    "\t\t\t\tcv2.rectangle(img,(ix,iy),(x,y),(255,0,0),-1)\n",
    "\t\t\telse:\n",
    "\t\t\t\tcv2.circle(img,(x,y),5,(0,255,0),-1)\n",
    "\n",
    "\telif event == cv2.EVENT_LBUTTONUP:\n",
    "\t\tdrawing = False;             # 마우스를 때면 상태 변경\n",
    "\t\tif mode == True:\n",
    "\t\t\tcv2.rectangle(img,(ix,iy),(x,y),(255,0,0),-1)\n",
    "\t\telse:\n",
    "\t\t\tcv2.circle(img,(x,y),5,(0,255,0),-1)\n",
    "\n",
    "\n",
    "img = np.zeros((512,512,3), np.uint8)\n",
    "cv2.namedWindow('image')\n",
    "cv2.setMouseCallback('image',draw_circle)\n",
    "\n",
    "while True:\n",
    "\tcv2.imshow('image', img)\n",
    "\n",
    "\tk = cv2.waitKey(1) & 0xFF\n",
    "\n",
    "\tif k == ord('m'):    # 사각형, 원 Mode변경\n",
    "\t\tmode = not mode\n",
    "\telif k == 27:        # esc를 누르면 종료\n",
    "\t\tbreak\n",
    "\n",
    "cv2.destroyAllWindows()\n"
   ]
  },
  {
   "cell_type": "code",
   "execution_count": null,
   "metadata": {},
   "outputs": [],
   "source": []
  }
 ],
 "metadata": {
  "kernelspec": {
   "display_name": "Python 3",
   "language": "python",
   "name": "python3"
  },
  "language_info": {
   "codemirror_mode": {
    "name": "ipython",
    "version": 3
   },
   "file_extension": ".py",
   "mimetype": "text/x-python",
   "name": "python",
   "nbconvert_exporter": "python",
   "pygments_lexer": "ipython3",
   "version": "3.6.5"
  }
 },
 "nbformat": 4,
 "nbformat_minor": 2
}
