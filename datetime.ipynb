{
 "cells": [
  {
   "cell_type": "code",
   "execution_count": 2,
   "metadata": {},
   "outputs": [
    {
     "name": "stdout",
     "output_type": "stream",
     "text": [
      "2018-07-11\n",
      "2018-07-19\n",
      "wednesday\n",
      "2\n",
      "['monday', 'tuesday', 'wednesday', 'thursday', 'friday', 'saturday', 'sunday']\n",
      "['friday', 'monday', 'saturday', 'sunday', 'thursday', 'tuesday', 'wednesday']\n",
      "['monday', 'tuesday', 'wednesday', 'thursday', 'friday', 'saturday', 'sunday']\n",
      "True\n",
      "False\n",
      "2018-07-06 09:47:30.000125\n",
      "2018-06-06 08:47:30.000125\n",
      "\n",
      "\n",
      "2018-07-19 09:59:15.026990\n"
     ]
    }
   ],
   "source": [
    "import datetime\n",
    "day = datetime.date(2018,7,11)\n",
    "print(day)\n",
    "print(day.today())\n",
    "\n",
    "#dictionary example code--\n",
    "week = {0:'monday',1:'tuesday',2:'wednesday',3:'thursday',4:'friday',5:'saturday',6:'sunday'}\n",
    "reweek = {'monday':0,'tuesday':1,'wednesday':2,'thursday':3,'friday':4,'saturday':5,'sunday':6}\n",
    "print(week[day.weekday()])\n",
    "print(reweek[week[day.weekday()]])\n",
    "\n",
    "print(list(reweek))\n",
    "print(sorted(reweek))\n",
    "print(list(reweek))\n",
    "print('monday' in reweek)\n",
    "print('monday'not in reweek)\n",
    "#dictionary example code--\n",
    "\n",
    "#datetime example---\n",
    "pre = datetime.datetime(2018,7,6,9,47,30,125)\n",
    "diff = datetime.timedelta(days=30, seconds=3600)#days=999999999, hours=23, minutes=59, seconds=59, microseconds=999999\n",
    "print(pre)\n",
    "print(pre - diff)\n",
    "\n",
    "print('\\n')\n",
    "print(datetime.datetime.now())\n",
    "#datetime example---"
   ]
  },
  {
   "cell_type": "code",
   "execution_count": null,
   "metadata": {},
   "outputs": [],
   "source": []
  }
 ],
 "metadata": {
  "kernelspec": {
   "display_name": "Python 3",
   "language": "python",
   "name": "python3"
  },
  "language_info": {
   "codemirror_mode": {
    "name": "ipython",
    "version": 3
   },
   "file_extension": ".py",
   "mimetype": "text/x-python",
   "name": "python",
   "nbconvert_exporter": "python",
   "pygments_lexer": "ipython3",
   "version": "3.6.5"
  }
 },
 "nbformat": 4,
 "nbformat_minor": 2
}
