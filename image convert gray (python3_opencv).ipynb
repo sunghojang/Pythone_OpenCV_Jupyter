{
 "cells": [
  {
   "cell_type": "code",
   "execution_count": 3,
   "metadata": {},
   "outputs": [
    {
     "name": "stdout",
     "output_type": "stream",
     "text": [
      "<class 'numpy.ndarray'>\n"
     ]
    }
   ],
   "source": [
    "import cv2\n",
    "import numpy as np \n",
    "img_color = cv2.imread('/home/sdj/images.jpeg')\n",
    "\n",
    "cv2.imshow(\"color image\", img_color)\n",
    "print(type(img_color))\n",
    "\n",
    "\n",
    "flag = False;\n",
    "\n",
    "while True:\n",
    "\n",
    "    k = cv2.waitKey(0) & 0xFF\n",
    "    if k == 27:         # wait for ESC key to exit\n",
    "        cv2.destroyAllWindows()\n",
    "        break\n",
    "\n",
    "    elif k == ord('s'): # wait for 's' key to save \n",
    "\n",
    "\n",
    "        flag = not flag\n",
    "        img_show = None\n",
    "\n",
    "        if flag :\n",
    "            img_show = cv2.cvtColor(img_color, cv2.COLOR_BGR2GRAY)\n",
    "\n",
    "        else :\n",
    "            img_show = img_color\n",
    "\n",
    "        cv2.imwrite('savedimage.png',img_show)\n",
    "        cv2.imshow(\"color image\", img_show)\n"
   ]
  },
  {
   "cell_type": "code",
   "execution_count": null,
   "metadata": {},
   "outputs": [],
   "source": []
  },
  {
   "cell_type": "code",
   "execution_count": null,
   "metadata": {},
   "outputs": [],
   "source": []
  }
 ],
 "metadata": {
  "kernelspec": {
   "display_name": "Python 3",
   "language": "python",
   "name": "python3"
  },
  "language_info": {
   "codemirror_mode": {
    "name": "ipython",
    "version": 3
   },
   "file_extension": ".py",
   "mimetype": "text/x-python",
   "name": "python",
   "nbconvert_exporter": "python",
   "pygments_lexer": "ipython3",
   "version": "3.6.5"
  }
 },
 "nbformat": 4,
 "nbformat_minor": 2
}
