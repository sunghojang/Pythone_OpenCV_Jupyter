{
 "cells": [
  {
   "cell_type": "code",
   "execution_count": 16,
   "metadata": {},
   "outputs": [
    {
     "name": "stdout",
     "output_type": "stream",
     "text": [
      "54\n",
      "len : 3\n",
      "len : 6\n",
      "range(0, 10)\n",
      "range choiced number : 4 \n",
      "split string : ['sdj', 'tei', '3']\n",
      "SDJ TEI 3\n",
      "sdj tei 3\n",
      "4\n",
      "0\n"
     ]
    }
   ],
   "source": [
    "import random\n",
    "print(random.choice([2,3,54,5,2,11]))\n",
    "\n",
    "x = len(['s','df','sdj'])\n",
    "print('len : %d'%x)\n",
    "y = len('sdjtei')\n",
    "print('len : %d'%y)\n",
    "\n",
    "print(range(10))\n",
    "print('range choiced number : %d '%random.choice(range(10)))\n",
    "\n",
    "string = 'sdj tei ' + str(x)\n",
    "print('split string : %s'%string.split(' '))\n",
    "print(string.upper())\n",
    "print(string.lower())\n",
    "print(string.index('t'))\n",
    "print(string.index('s'))"
   ]
  },
  {
   "cell_type": "code",
   "execution_count": null,
   "metadata": {},
   "outputs": [],
   "source": []
  },
  {
   "cell_type": "code",
   "execution_count": null,
   "metadata": {},
   "outputs": [],
   "source": []
  },
  {
   "cell_type": "code",
   "execution_count": null,
   "metadata": {},
   "outputs": [],
   "source": []
  }
 ],
 "metadata": {
  "kernelspec": {
   "display_name": "Python 3",
   "language": "python",
   "name": "python3"
  },
  "language_info": {
   "codemirror_mode": {
    "name": "ipython",
    "version": 3
   },
   "file_extension": ".py",
   "mimetype": "text/x-python",
   "name": "python",
   "nbconvert_exporter": "python",
   "pygments_lexer": "ipython3",
   "version": "3.6.5"
  }
 },
 "nbformat": 4,
 "nbformat_minor": 2
}
