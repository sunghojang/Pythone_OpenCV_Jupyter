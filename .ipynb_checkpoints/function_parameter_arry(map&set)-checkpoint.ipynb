{
 "cells": [
  {
   "cell_type": "code",
   "execution_count": 2,
   "metadata": {},
   "outputs": [
    {
     "name": "stdout",
     "output_type": "stream",
     "text": [
      "<map object at 0x7fc4c6ef9898>\n",
      "{4, 5, 6, 7}\n",
      "<map object at 0x7fc4c6ef9828>\n",
      "{16, 1, 4, 9}\n"
     ]
    }
   ],
   "source": [
    "from basic_funtion import *\n",
    "def calculateSquare(n):\n",
    "  return n*n\n",
    "\n",
    "numbers = (1, 2, 3, 4)\n",
    "\n",
    "result = map(func, numbers)\n",
    "print(result)\n",
    "# converting map object to set\n",
    "numbersSquare = set(result)\n",
    "print(numbersSquare)\n",
    "\n",
    "result = map(calculateSquare, numbers)\n",
    "print(result)\n",
    "# converting map object to set\n",
    "numbersSquare = set(result)\n",
    "print(numbersSquare)"
   ]
  },
  {
   "cell_type": "code",
   "execution_count": null,
   "metadata": {},
   "outputs": [],
   "source": []
  },
  {
   "cell_type": "code",
   "execution_count": null,
   "metadata": {},
   "outputs": [],
   "source": []
  }
 ],
 "metadata": {
  "kernelspec": {
   "display_name": "Python 3",
   "language": "python",
   "name": "python3"
  },
  "language_info": {
   "codemirror_mode": {
    "name": "ipython",
    "version": 3
   },
   "file_extension": ".py",
   "mimetype": "text/x-python",
   "name": "python",
   "nbconvert_exporter": "python",
   "pygments_lexer": "ipython3",
   "version": "3.6.5"
  }
 },
 "nbformat": 4,
 "nbformat_minor": 2
}
