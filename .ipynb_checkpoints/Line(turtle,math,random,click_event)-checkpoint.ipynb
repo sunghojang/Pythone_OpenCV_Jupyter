{
 "cells": [
  {
   "cell_type": "code",
   "execution_count": null,
   "metadata": {},
   "outputs": [
    {
     "name": "stdout",
     "output_type": "stream",
     "text": [
      "hit wall\n",
      "hit wall\n",
      "hit wall\n",
      "hit wall\n",
      "hit wall\n",
      "hit wall\n",
      "hit wall\n",
      "hit wall\n",
      "hit wall\n",
      "hit wall\n",
      "hit wall\n"
     ]
    }
   ],
   "source": [
    "import turtle\n",
    "import math\n",
    "import random\n",
    "import _thread\n",
    "\n",
    "class Line:\n",
    "    def __init__(self,slp,x0,y0):\n",
    "        self.slp = float(slp)\n",
    "        self.x0 = float(x0)\n",
    "        self.y0 = float(y0)\n",
    "\n",
    "    def get_y(self,x):\n",
    "        return self.slp * (x-self.x0) + self.y0\n",
    "    def get_x(self,y):\n",
    "        return self.x0 + (y - self.y0) / self.slp\n",
    "    \n",
    "class Geobuk(turtle.Turtle):\n",
    "    def __init__(self):\n",
    "        super(Geobuk,self).__init__()\n",
    "        self.shape('turtle')\n",
    "        self.shapesize(2,2)\n",
    "        self.radians()#degree to radian\n",
    "        self.width(10)\n",
    "        self.getscreen().bgcolor('gray')\n",
    "        self.pencolor('white')\n",
    "    def hit_wall(self):\n",
    "        xx = 400 / 2.0\n",
    "        yy = 300 / 2.0\n",
    "        turn_angle = float(180)\n",
    "        \n",
    "        line = Line(math.tan(self.heading()),self.xcor(),self.ycor())\n",
    "        rand_angle = math.pi * random.random()\n",
    "        \n",
    "        if self.towards(-xx,yy) > self.heading() >= self.towards(xx,yy):\n",
    "            des_x = line.get_x(yy)\n",
    "            des_y = yy\n",
    "            turn_angle = self.heading() + rand_angle\n",
    "        elif self.towards(-xx,-yy) > self.heading() >= self.towards(-xx,yy):\n",
    "            des_x = -xx\n",
    "            des_y = line.get_y(-xx)\n",
    "            turn_angle = self.heading() - 0.5 * math.pi + rand_angle\n",
    "        elif self.towards(xx,-yy) > self.heading() >= self.towards(-xx,-yy):\n",
    "            des_x = line.get_x(-yy)\n",
    "            des_y = -yy\n",
    "            turn_angle = self.heading() - rand_angle\n",
    "        else:\n",
    "            des_x = xx\n",
    "            des_y = line.get_y(xx)\n",
    "            turn_angle = self.heading() -0.5 * math.pi - rand_angle\n",
    "        self.goto(des_x,des_y)\n",
    "        self.right(turn_angle)\n",
    "        \n",
    "    def run(self):\n",
    "        while True:\n",
    "            self.hit_wall()\n",
    "            print(\"hit wall\")\n",
    "    def click_on_move(self,x,y):\n",
    "        self.goto(x,y)\n",
    "        \n",
    "geobuk = Geobuk()\n",
    "geobuk.getscreen().onclick(geobuk.click_on_move)\n",
    "geobuk.run()\n",
    "\n"
   ]
  },
  {
   "cell_type": "code",
   "execution_count": null,
   "metadata": {},
   "outputs": [],
   "source": []
  },
  {
   "cell_type": "code",
   "execution_count": null,
   "metadata": {},
   "outputs": [],
   "source": []
  }
 ],
 "metadata": {
  "kernelspec": {
   "display_name": "Python 3",
   "language": "python",
   "name": "python3"
  },
  "language_info": {
   "codemirror_mode": {
    "name": "ipython",
    "version": 3
   },
   "file_extension": ".py",
   "mimetype": "text/x-python",
   "name": "python",
   "nbconvert_exporter": "python",
   "pygments_lexer": "ipython3",
   "version": "3.6.5"
  }
 },
 "nbformat": 4,
 "nbformat_minor": 2
}
