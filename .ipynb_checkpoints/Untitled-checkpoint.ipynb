{
 "cells": [
  {
   "cell_type": "code",
   "execution_count": 16,
   "metadata": {},
   "outputs": [
    {
     "ename": "IndentationError",
     "evalue": "expected an indented block (<ipython-input-16-cddd0a8012cb>, line 21)",
     "output_type": "error",
     "traceback": [
      "\u001b[0;36m  File \u001b[0;32m\"<ipython-input-16-cddd0a8012cb>\"\u001b[0;36m, line \u001b[0;32m21\u001b[0m\n\u001b[0;31m    circles = np.round(circles[0, :]).astype(\"int\")\u001b[0m\n\u001b[0m          ^\u001b[0m\n\u001b[0;31mIndentationError\u001b[0m\u001b[0;31m:\u001b[0m expected an indented block\n"
     ]
    }
   ],
   "source": [
    "# import the necessary packages\n",
    "import numpy as np\n",
    "import argparse\n",
    "import cv2\n",
    " \n",
    "# construct the argument parser and parse the arguments\n",
    "ap = argparse.ArgumentParser()\n",
    "# ap.add_argument(\"-i\", \"--image\", required = True, help = \"Path to the image\")\n",
    "# args = vars(ap.parse_args())\n",
    "\n",
    "# load the image, clone it for output, and then convert it to grayscale\n",
    "image = cv2.imread('images.jpeg')  \n",
    "output = image.copy()\n",
    "gray = cv2.cvtColor(image, cv2.COLOR_BGR2GRAY)\n",
    "# detect circles in the image\n",
    "circles = cv2.HoughCircles(gray, cv2.HOUGH_GRADIENT, 1.2, 100)\n",
    " \n",
    "# ensure at least some circles were found\n",
    "if circles is not None:\n",
    "# convert the (x, y) coordinates and radius of the circles to integers\n",
    "circles = np.round(circles[0, :]).astype(\"int\")\n",
    " \n",
    "# loop over the (x, y) coordinates and radius of the circles\n",
    "for (x, y, r) in circles:\n",
    "# draw the circle in the output image, then draw a rectangle\n",
    "# corresponding to the center of the circle\n",
    "cv2.circle(output, (x, y), r, (0, 255, 0), 4)\n",
    "cv2.rectangle(output, (x - 5, y - 5), (x + 5, y + 5), (0, 128, 255), -1)\n",
    " \n",
    "# show the output image\n",
    "cv2.imshow(\"output\", np.hstack([image, output]))\n",
    "cv2.waitKey(0)"
   ]
  },
  {
   "cell_type": "code",
   "execution_count": null,
   "metadata": {},
   "outputs": [],
   "source": []
  }
 ],
 "metadata": {
  "kernelspec": {
   "display_name": "Python 3",
   "language": "python",
   "name": "python3"
  },
  "language_info": {
   "codemirror_mode": {
    "name": "ipython",
    "version": 3
   },
   "file_extension": ".py",
   "mimetype": "text/x-python",
   "name": "python",
   "nbconvert_exporter": "python",
   "pygments_lexer": "ipython3",
   "version": "3.6.5"
  }
 },
 "nbformat": 4,
 "nbformat_minor": 2
}
