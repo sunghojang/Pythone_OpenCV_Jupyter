{
 "cells": [
  {
   "cell_type": "code",
   "execution_count": 1,
   "metadata": {},
   "outputs": [
    {
     "data": {
      "text/plain": [
       "119"
      ]
     },
     "execution_count": 1,
     "metadata": {},
     "output_type": "execute_result"
    }
   ],
   "source": [
    "import cv2  \n",
    "import numpy as np  \n",
    "  \n",
    "image = cv2.imread('/home/sdj/line.jpg')  \n",
    "img_gray = cv2.cvtColor(image, cv2.COLOR_BGR2GRAY)  \n",
    "img_gray = np.float32(img_gray)  \n",
    "  \n",
    "dst = cv2.cornerHarris( img_gray, 2, 3, 0.04 )  \n",
    "  \n",
    "image[dst>0.01*dst.max()] = [0,0,255]  \n",
    "  \n",
    "cv2.imshow('dst', image)  \n",
    "cv2.waitKey(0)  \n"
   ]
  },
  {
   "cell_type": "code",
   "execution_count": 2,
   "metadata": {},
   "outputs": [],
   "source": [
    "import cv2  \n",
    "import numpy as np  \n",
    "  \n",
    "image = cv2.imread('/home/sdj/images.jpeg')  \n",
    "img_gray = cv2.cvtColor(image, cv2.COLOR_BGR2GRAY)  \n",
    "img_gray = np.float32(img_gray)  \n",
    "  \n",
    "dst = cv2.cornerHarris( img_gray, 2, 3, 0.04 )  \n",
    "  \n",
    "image[dst>0.01*dst.max()] = [0,0,255]  \n",
    "  \n",
    "cv2.imshow('dst', image)  \n",
    "cv2.waitKey(0)  \n",
    "cv2.destroyAllWindows()"
   ]
  },
  {
   "cell_type": "code",
   "execution_count": null,
   "metadata": {},
   "outputs": [],
   "source": []
  },
  {
   "cell_type": "code",
   "execution_count": null,
   "metadata": {},
   "outputs": [],
   "source": []
  }
 ],
 "metadata": {
  "kernelspec": {
   "display_name": "Python 3",
   "language": "python",
   "name": "python3"
  },
  "language_info": {
   "codemirror_mode": {
    "name": "ipython",
    "version": 3
   },
   "file_extension": ".py",
   "mimetype": "text/x-python",
   "name": "python",
   "nbconvert_exporter": "python",
   "pygments_lexer": "ipython3",
   "version": "3.6.5"
  }
 },
 "nbformat": 4,
 "nbformat_minor": 2
}
