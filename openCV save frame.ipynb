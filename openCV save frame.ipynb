{
 "cells": [
  {
   "cell_type": "code",
   "execution_count": 4,
   "metadata": {},
   "outputs": [
    {
     "name": "stdout",
     "output_type": "stream",
     "text": [
      "cant open the cam (1)\n"
     ]
    }
   ],
   "source": [
    "# -*- coding: utf-8 -*-\n",
    "import cv2\n",
    "\n",
    "CAM_ID = 1\n",
    "def capture(camid = CAM_ID):\n",
    "    cam = cv2.VideoCapture(camid)\n",
    "    if cam.isOpened() == False:\n",
    "        print ('cant open the cam (%d)' % camid)\n",
    "        return None\n",
    "\n",
    "    ret, frame = cam.read()\n",
    "    if frame is None:\n",
    "        print ('frame is not exist')\n",
    "        return None\n",
    "    \n",
    "    # png로 압축 없이 영상 저장 \n",
    "    cv2.imwrite('messigray.png',frame, params=[cv2.IMWRITE_PNG_COMPRESSION,0])\n",
    "    cam.release()\n",
    "\n",
    "if __name__ == '__main__':\n",
    "    capture()"
   ]
  },
  {
   "cell_type": "code",
   "execution_count": null,
   "metadata": {},
   "outputs": [],
   "source": []
  }
 ],
 "metadata": {
  "kernelspec": {
   "display_name": "Python 3",
   "language": "python",
   "name": "python3"
  },
  "language_info": {
   "codemirror_mode": {
    "name": "ipython",
    "version": 3
   },
   "file_extension": ".py",
   "mimetype": "text/x-python",
   "name": "python",
   "nbconvert_exporter": "python",
   "pygments_lexer": "ipython3",
   "version": "3.6.5"
  }
 },
 "nbformat": 4,
 "nbformat_minor": 2
}
